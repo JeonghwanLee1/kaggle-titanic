{
 "cells": [
  {
   "cell_type": "code",
   "execution_count": 21,
   "metadata": {},
   "outputs": [],
   "source": [
    "import pandas as pd\n",
    "import seaborn as sns\n",
    "import re\n",
    "import numpy as np"
   ]
  },
  {
   "cell_type": "code",
   "execution_count": 22,
   "metadata": {},
   "outputs": [],
   "source": [
    "train = pd.read_csv('train.csv')\n",
    "test = pd.read_csv('test.csv')"
   ]
  },
  {
   "cell_type": "code",
   "execution_count": 23,
   "metadata": {},
   "outputs": [],
   "source": [
    "def get_title(name):\n",
    "    match = re.search(' ([A-Za-z]+)\\.', name)\n",
    "    if match:\n",
    "        return match.group()\n",
    "    else:\n",
    "        return NaN"
   ]
  },
  {
   "cell_type": "code",
   "execution_count": 24,
   "metadata": {},
   "outputs": [],
   "source": [
    "sex_map = {\"male\":0,\"female\":1}\n",
    "embarked_map = {'S':0,'Q':1,'C':2}\n",
    "boolean_map = {False:0,True:1}\n",
    "title_map = {' Mr.':0.1, ' Mrs.':0.2, ' Miss.':0.3, ' Master.':0.4, ' Don.':0.5, ' Rev.':0.6, ' Dr.':0.7, ' Mme.':0.8, ' Ms.':0.9,\n",
    " ' Major.':1.1, ' Lady.':1.2, ' Sir.':1.3, ' Mlle.':1.4, ' Col.':1.5, ' Capt.':1.6, ' Countess.':1.7,' Jonkheer.':1.8}#해당 수치 조절 필요할듯.. Title이 가지는 의미에 대해 같이 고민해봅시당 \n",
    "train['Sex'] = train['Sex'].map(sex_map)\n",
    "\n",
    "train['Embarked'] = train['Embarked'].map(embarked_map)\n",
    "train['Embarked'] = train['Embarked'].fillna(0)#누락된값이 2개밖에 없어서 그냥 S로 했습니다.\n",
    "\n",
    "train['Cabin'] = train['Cabin'].notnull()\n",
    "train['Cabin'] = train['Cabin'].map(boolean_map)\n",
    "\n",
    "train['Title'] = train['Name'].map(get_title)\n",
    "train['Title'] = train['Title'].map(title_map)\n",
    "train['Title'] = train['Title'].fillna(1)\n",
    "\n",
    "#train['Age'] = train[['Age','Title']].apply(guess_age,axis=1)#비어있는 Age에 대해 각 title별 평균나이 적용 했어요\n",
    "\n",
    "#train[['Title','Age']].groupby(['Title']).mean() title별 Age의 평균\n",
    "test['Sex'] = test['Sex'].map(sex_map)\n",
    "\n",
    "test['Embarked'] = test['Embarked'].map(embarked_map)\n",
    "test['Embarked'] = test['Embarked'].fillna(0)\n",
    "\n",
    "test['Cabin'] = test['Cabin'].notnull()\n",
    "test['Cabin'] = test['Cabin'].map(boolean_map)#Cabin의 경우에 기록 유무에만 따라 0 1 로 했어요\n",
    "\n",
    "test['Title'] = test['Name'].map(get_title)\n",
    "test['Title'] = test['Title'].map(title_map)\n",
    "test['Title'] = test['Title'].fillna(3)#이것두 Title의 조정 수치\n",
    "\n",
    "#test['Age'] = test[['Age','Title']].apply(guess_age,axis=1)\n",
    "\n",
    "train.drop('PassengerId',axis=1,inplace=True)\n",
    "train.drop('Name',axis=1,inplace=True)\n",
    "train.drop('Ticket',axis=1,inplace=True)\n",
    "\n",
    "test.drop('Name',axis=1,inplace=True)\n",
    "test.drop('Ticket',axis=1,inplace=True)\n",
    "\n",
    "test_data=test.drop('PassengerId',axis=1).copy()"
   ]
  },
  {
   "cell_type": "code",
   "execution_count": null,
   "metadata": {},
   "outputs": [],
   "source": []
  }
 ],
 "metadata": {
  "kernelspec": {
   "display_name": "Python 3",
   "language": "python",
   "name": "python3"
  },
  "language_info": {
   "codemirror_mode": {
    "name": "ipython",
    "version": 3
   },
   "file_extension": ".py",
   "mimetype": "text/x-python",
   "name": "python",
   "nbconvert_exporter": "python",
   "pygments_lexer": "ipython3",
   "version": "3.6.8"
  }
 },
 "nbformat": 4,
 "nbformat_minor": 2
}
