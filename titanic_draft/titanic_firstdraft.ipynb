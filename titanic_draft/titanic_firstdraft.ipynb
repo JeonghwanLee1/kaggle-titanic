{
 "cells": [
  {
   "cell_type": "code",
   "execution_count": 15,
   "metadata": {},
   "outputs": [],
   "source": [
    "import pandas as pd\n",
    "import seaborn as sns\n",
    "import re\n",
    "import numpy as np"
   ]
  },
  {
   "cell_type": "code",
   "execution_count": 16,
   "metadata": {},
   "outputs": [],
   "source": [
    "train = pd.read_csv('train.csv')\n",
    "test = pd.read_csv('test.csv')"
   ]
  },
  {
   "cell_type": "code",
   "execution_count": 17,
   "metadata": {},
   "outputs": [],
   "source": [
    "def get_title(name):\n",
    "    match = re.search(' ([A-Za-z]+)\\.', name)\n",
    "    if match:\n",
    "        return match.group()\n",
    "    else:\n",
    "        return NaN"
   ]
  },
  {
   "cell_type": "code",
   "execution_count": 18,
   "metadata": {},
   "outputs": [],
   "source": [
    "def guess_age(cols):\n",
    "    age = cols[0]\n",
    "    title = cols[1]\n",
    "    if pd.isnull(age):\n",
    "        if title == 0:\n",
    "            return 32.368090\n",
    "        elif title == 0.1:\n",
    "            return 21.773973\n",
    "        elif title == 0.2:\n",
    "            return 35.898148\n",
    "        elif title == 0.3:\n",
    "            return 42.384615\n",
    "        elif title == 10.0:\n",
    "            return 4.574167\n",
    "    else:\n",
    "        return age\n",
    "#함수로 하는게 비효율적이고 코드가 좋지 못한듯."
   ]
  },
  {
   "cell_type": "code",
   "execution_count": 19,
   "metadata": {},
   "outputs": [],
   "source": [
    "sex_map = {\"male\":0,\"female\":1}\n",
    "embarked_map = {'S':0,'Q':1,'C':2}\n",
    "boolean_map = {False:0,True:1}\n",
    "title_map = {' Mr.':0, ' Miss.':0.1, ' Mrs.':0.2, ' Master.':10}#해당 수치 조절 필요할듯.. Title이 가지는 의미에 대해 같이 고민해봅시당 \n",
    "train['Sex'] = train['Sex'].map(sex_map)\n",
    "\n",
    "train['Embarked'] = train['Embarked'].map(embarked_map)\n",
    "train['Embarked'] = train['Embarked'].fillna(0)#누락된값이 2개밖에 없어서 그냥 S로 했습니다.\n",
    "\n",
    "train['Cabin'] = train['Cabin'].notnull()\n",
    "train['Cabin'] = train['Cabin'].map(boolean_map)\n",
    "\n",
    "train['Title'] = train['Name'].map(get_title)\n",
    "train['Title'] = train['Title'].map(title_map)\n",
    "train['Title'] = train['Title'].fillna(0.3)\n",
    "\n",
    "train['Age'] = train[['Age','Title']].apply(guess_age,axis=1)#비어있는 Age에 대해 각 title별 평균나이 적용 했어요\n",
    "\n",
    "#train[['Title','Age']].groupby(['Title']).mean() title별 Age의 평균\n",
    "test['Sex'] = test['Sex'].map(sex_map)\n",
    "\n",
    "test['Embarked'] = test['Embarked'].map(embarked_map)\n",
    "test['Embarked'] = test['Embarked'].fillna(0)\n",
    "\n",
    "test['Cabin'] = test['Cabin'].notnull()\n",
    "test['Cabin'] = test['Cabin'].map(boolean_map)#Cabin의 경우에 기록 유무에만 따라 0 1 로 했어요\n",
    "\n",
    "test['Title'] = test['Name'].map(get_title)\n",
    "test['Title'] = test['Title'].map(title_map)\n",
    "test['Title'] = test['Title'].fillna(0.3)#이것두 Title의 조정 수치\n",
    "\n",
    "test['Age'] = test[['Age','Title']].apply(guess_age,axis=1)\n",
    "\n",
    "train.drop('PassengerId',axis=1,inplace=True)\n",
    "train.drop('Name',axis=1,inplace=True)\n",
    "train.drop('Ticket',axis=1,inplace=True)\n",
    "\n",
    "test.drop('Name',axis=1,inplace=True)\n",
    "test.drop('Ticket',axis=1,inplace=True)\n",
    "\n",
    "test_data=test.drop('PassengerId',axis=1).copy()"
   ]
  },
  {
   "cell_type": "code",
   "execution_count": 20,
   "metadata": {
    "scrolled": false
   },
   "outputs": [
    {
     "name": "stdout",
     "output_type": "stream",
     "text": [
      "<class 'pandas.core.frame.DataFrame'>\n",
      "RangeIndex: 891 entries, 0 to 890\n",
      "Data columns (total 10 columns):\n",
      "Survived    891 non-null int64\n",
      "Pclass      891 non-null int64\n",
      "Sex         891 non-null int64\n",
      "Age         891 non-null float64\n",
      "SibSp       891 non-null int64\n",
      "Parch       891 non-null int64\n",
      "Fare        891 non-null float64\n",
      "Cabin       891 non-null int64\n",
      "Embarked    891 non-null float64\n",
      "Title       891 non-null float64\n",
      "dtypes: float64(4), int64(6)\n",
      "memory usage: 69.7 KB\n"
     ]
    }
   ],
   "source": [
    "train.info()"
   ]
  },
  {
   "cell_type": "code",
   "execution_count": 21,
   "metadata": {},
   "outputs": [],
   "source": [
    "import tensorflow as tf\n",
    "from sklearn.model_selection import train_test_split\n",
    "from sklearn.metrics import accuracy_score \n",
    "from tensorflow.contrib import learn"
   ]
  },
  {
   "cell_type": "code",
   "execution_count": 22,
   "metadata": {},
   "outputs": [],
   "source": [
    "y_data = train['Survived']\n",
    "x_data = train[['Pclass','Sex','Age','SibSp','Parch','Fare','Cabin','Embarked','Title']]\n",
    "\n",
    "#x_train = x_data\n",
    "#y_train = y_data\n",
    "x_train, x_test, y_train, y_test = train_test_split(x_data,y_data,test_size=0.2,random_state=42)#교차검증 데이터셋"
   ]
  },
  {
   "cell_type": "code",
   "execution_count": null,
   "metadata": {
    "scrolled": true
   },
   "outputs": [
    {
     "name": "stdout",
     "output_type": "stream",
     "text": [
      "WARNING:tensorflow:float64 is not supported by many models, consider casting to float32.\n",
      "INFO:tensorflow:Using default config.\n",
      "WARNING:tensorflow:Using temporary folder as model directory: C:\\Users\\ljh_9\\AppData\\Local\\Temp\\tmpd9g5mpv7\n",
      "INFO:tensorflow:Using config: {'_task_type': None, '_task_id': 0, '_cluster_spec': <tensorflow.python.training.server_lib.ClusterSpec object at 0x00000210ACC3EDA0>, '_master': '', '_num_ps_replicas': 0, '_num_worker_replicas': 0, '_environment': 'local', '_is_chief': True, '_evaluation_master': '', '_train_distribute': None, '_eval_distribute': None, '_device_fn': None, '_tf_config': gpu_options {\n",
      "  per_process_gpu_memory_fraction: 1\n",
      "}\n",
      ", '_tf_random_seed': None, '_save_summary_steps': 100, '_save_checkpoints_secs': 600, '_log_step_count_steps': 100, '_protocol': None, '_session_config': None, '_save_checkpoints_steps': None, '_keep_checkpoint_max': 5, '_keep_checkpoint_every_n_hours': 10000, '_model_dir': 'C:\\\\Users\\\\ljh_9\\\\AppData\\\\Local\\\\Temp\\\\tmpd9g5mpv7'}\n",
      "WARNING:tensorflow:float64 is not supported by many models, consider casting to float32.\n",
      "WARNING:tensorflow:Casting <dtype: 'int64'> labels to bool.\n",
      "WARNING:tensorflow:Casting <dtype: 'int64'> labels to bool.\n",
      "WARNING:tensorflow:Trapezoidal rule is known to produce incorrect PR-AUCs; please switch to \"careful_interpolation\" instead.\n",
      "WARNING:tensorflow:Trapezoidal rule is known to produce incorrect PR-AUCs; please switch to \"careful_interpolation\" instead.\n",
      "INFO:tensorflow:Create CheckpointSaverHook.\n",
      "INFO:tensorflow:Graph was finalized.\n",
      "INFO:tensorflow:Running local_init_op.\n",
      "INFO:tensorflow:Done running local_init_op.\n",
      "INFO:tensorflow:Saving checkpoints for 0 into C:\\Users\\ljh_9\\AppData\\Local\\Temp\\tmpd9g5mpv7\\model.ckpt.\n",
      "INFO:tensorflow:loss = 1.0129176, step = 1\n",
      "INFO:tensorflow:global_step/sec: 79.45\n",
      "INFO:tensorflow:loss = 0.5760728, step = 101 (1.261 sec)\n",
      "INFO:tensorflow:global_step/sec: 95.6193\n",
      "INFO:tensorflow:loss = 0.5515923, step = 201 (1.046 sec)\n",
      "INFO:tensorflow:global_step/sec: 81.2845\n",
      "INFO:tensorflow:loss = 0.5276339, step = 301 (1.230 sec)\n",
      "INFO:tensorflow:global_step/sec: 80.916\n",
      "INFO:tensorflow:loss = 0.5015863, step = 401 (1.237 sec)\n",
      "INFO:tensorflow:global_step/sec: 69.6529\n",
      "INFO:tensorflow:loss = 0.46526822, step = 501 (1.437 sec)\n",
      "INFO:tensorflow:global_step/sec: 71.9563\n",
      "INFO:tensorflow:loss = 0.44106114, step = 601 (1.390 sec)\n",
      "INFO:tensorflow:global_step/sec: 72.8091\n",
      "INFO:tensorflow:loss = 0.43108952, step = 701 (1.373 sec)\n"
     ]
    }
   ],
   "source": [
    "feature_columns = tf.contrib.learn.infer_real_valued_columns_from_input(x_train)\n",
    "classifier = learn.DNNClassifier(feature_columns=feature_columns, hidden_units=[10, 20, 10], n_classes=2)\n",
    "classifier.fit(x_train, y_train,steps=3000) #hidden layer 3개의 초기 모델"
   ]
  },
  {
   "cell_type": "code",
   "execution_count": 12,
   "metadata": {
    "scrolled": false
   },
   "outputs": [
    {
     "name": "stdout",
     "output_type": "stream",
     "text": [
      "WARNING:tensorflow:From C:\\ProgramData\\Anaconda3\\lib\\site-packages\\tensorflow\\python\\util\\deprecation.py:553: calling DNNClassifier.predict (from tensorflow.contrib.learn.python.learn.estimators.dnn) with outputs=None is deprecated and will be removed after 2017-03-01.\n",
      "Instructions for updating:\n",
      "Please switch to predict_classes, or set `outputs` argument.\n",
      "WARNING:tensorflow:From C:\\ProgramData\\Anaconda3\\lib\\site-packages\\tensorflow\\contrib\\learn\\python\\learn\\estimators\\dnn.py:463: calling BaseEstimator.predict (from tensorflow.contrib.learn.python.learn.estimators.estimator) with x is deprecated and will be removed after 2016-12-01.\n",
      "Instructions for updating:\n",
      "Estimator is decoupled from Scikit Learn interface by moving into\n",
      "separate class SKCompat. Arguments x, y and batch_size are only\n",
      "available in the SKCompat class, Estimator will only accept input_fn.\n",
      "Example conversion:\n",
      "  est = Estimator(...) -> est = SKCompat(Estimator(...))\n",
      "WARNING:tensorflow:float64 is not supported by many models, consider casting to float32.\n",
      "INFO:tensorflow:Graph was finalized.\n",
      "INFO:tensorflow:Restoring parameters from C:\\Users\\ljh_9\\AppData\\Local\\Temp\\tmpk669dfhm\\model.ckpt-3000\n",
      "INFO:tensorflow:Running local_init_op.\n",
      "INFO:tensorflow:Done running local_init_op.\n",
      "0.8268156424581006\n"
     ]
    }
   ],
   "source": [
    "predicted = classifier.predict(x_test)\n",
    "print(accuracy_score(y_test,list(predicted)))\n",
    "#교차검증 확인"
   ]
  },
  {
   "cell_type": "code",
   "execution_count": 13,
   "metadata": {
    "scrolled": true
   },
   "outputs": [
    {
     "name": "stdout",
     "output_type": "stream",
     "text": [
      "WARNING:tensorflow:float64 is not supported by many models, consider casting to float32.\n",
      "INFO:tensorflow:Graph was finalized.\n",
      "INFO:tensorflow:Restoring parameters from C:\\Users\\ljh_9\\AppData\\Local\\Temp\\tmpk669dfhm\\model.ckpt-3000\n",
      "INFO:tensorflow:Running local_init_op.\n",
      "INFO:tensorflow:Done running local_init_op.\n"
     ]
    }
   ],
   "source": [
    "result = classifier.predict(test_data)"
   ]
  },
  {
   "cell_type": "code",
   "execution_count": 14,
   "metadata": {},
   "outputs": [],
   "source": [
    "submission = pd.DataFrame({\n",
    "    #\"PassengerId\" : test.index+892,\n",
    "    \"PassengerId\" : test[\"PassengerId\"],\n",
    "    \"Survived\" : list(result)\n",
    "})\n",
    "submission.to_csv('submission.csv',index=False)\n",
    "#초기 모델 교차검증 0.8212290502793296 , Kaggle Score 0.78468(10000명 중 3944등)"
   ]
  },
  {
   "cell_type": "code",
   "execution_count": null,
   "metadata": {},
   "outputs": [],
   "source": []
  }
 ],
 "metadata": {
  "kernelspec": {
   "display_name": "Python 3",
   "language": "python",
   "name": "python3"
  },
  "language_info": {
   "codemirror_mode": {
    "name": "ipython",
    "version": 3
   },
   "file_extension": ".py",
   "mimetype": "text/x-python",
   "name": "python",
   "nbconvert_exporter": "python",
   "pygments_lexer": "ipython3",
   "version": "3.6.8"
  }
 },
 "nbformat": 4,
 "nbformat_minor": 2
}
